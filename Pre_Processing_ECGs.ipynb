{
  "nbformat": 4,
  "nbformat_minor": 0,
  "metadata": {
    "colab": {
      "provenance": [],
      "collapsed_sections": []
    },
    "kernelspec": {
      "name": "python3",
      "display_name": "Python 3"
    },
    "language_info": {
      "name": "python"
    }
  },
  "cells": [
    {
      "cell_type": "code",
      "execution_count": null,
      "metadata": {
        "id": "OCy7k6P7XHM6"
      },
      "outputs": [],
      "source": [
        "import numpy as np\n",
        "import wfdb\n",
        "import glob\n",
        "import matplotlib.pyplot as plt\n",
        "from matplotlib.image import imread\n",
        "import pywt\n",
        "import pywt.data\n",
        "import os\n",
        "from pathlib import Path\n",
        "from PIL import Image,ImageEnhance\n",
        "from scipy import fftpack\n",
        "import shutil\n",
        "import pandas as pd\n",
        "import random\n",
        "import scipy.signal as signal\n",
        "from wfdb import processing\n",
        "from itertools import combinations\n",
        "#from scipy.signal.filter_design import zpk2sos"
      ]
    },
    {
      "cell_type": "markdown",
      "source": [
        "Extract Lead v1 from the 12-Leads ECG Dataset"
      ],
      "metadata": {
        "id": "3aRfRcqshbMD"
      }
    },
    {
      "cell_type": "code",
      "source": [
        "def Get_LeadV1_Numpy():\n",
        "\n",
        "    for myloop in range(21000, 22000, 1):\n",
        "        five_digit_value = '%05d' % myloop\n",
        "        signals, fields = wfdb.rdsamp(\"<<<Souce Path>>>\" + five_digit_value + \"_lr\", channels=[6],sampto=1000)\n",
        "\n",
        "        signals = signals.tolist()\n",
        "        # print(signals)\n",
        "\n",
        "        newest = [i[0] for i in signals]\n",
        "        X = [i for i in newest if i != 0.0]\n",
        "        X = np.array(X)\n",
        "        np.save(\"<<<Destination Path>>>\" + five_digit_value + '.npy', X)  # save\n",
        "\n",
        "Get_LeadV1_Numpy()"
      ],
      "metadata": {
        "id": "d1VLHqQ4ez50"
      },
      "execution_count": null,
      "outputs": []
    },
    {
      "cell_type": "markdown",
      "source": [
        "Numpy Files distruction to classes (with the help of CSV file)"
      ],
      "metadata": {
        "id": "-JOf5q0jhhwz"
      }
    },
    {
      "cell_type": "code",
      "source": [
        "def distribute_images():\n",
        "\n",
        "    df = pd.read_csv('<<<ECGs CSV File path>>>')\n",
        "\n",
        "    for i in range(0, 21838, 1):\n",
        "\n",
        "        filee_name = df.iloc[i][0]\n",
        "        print(filee_name)\n",
        "        five_digit_value = '%05d' % filee_name\n",
        "        file_name = five_digit_value + \".png\"\n",
        "\n",
        "        class_name = df.iloc[i][12]\n",
        "\n",
        "        source_dir = \"<<<Souce Path>>>\" + file_name\n",
        "        search_dir = '<<<Dest Path>>>' + class_name + '/'\n",
        "        dest_dir = search_dir\n",
        "\n",
        "        if not os.path.exists(source_dir):\n",
        "            print(source_dir + \" not found.\")\n",
        "        else:\n",
        "            if not os.path.exists(search_dir):\n",
        "                print(source_dir)\n",
        "                os.makedirs(search_dir)\n",
        "                shutil.move(source_dir, dest_dir)\n",
        "\n",
        "            else:\n",
        "                shutil.move(source_dir, dest_dir)\n",
        "\n",
        "distribute_images()"
      ],
      "metadata": {
        "id": "3qQMl_mpewKk"
      },
      "execution_count": null,
      "outputs": []
    },
    {
      "cell_type": "markdown",
      "source": [
        "Denoising Numpy Files"
      ],
      "metadata": {
        "id": "w47WOafzhrir"
      }
    },
    {
      "cell_type": "code",
      "source": [
        "def Numpy_Denoise():\n",
        "\n",
        "    def madev(d, axis=None):\n",
        "        \"\"\" Mean absolute deviation of a signal \"\"\"\n",
        "        return np.mean(np.absolute(d - np.mean(d, axis)), axis)\n",
        "\n",
        "    def wavelet_denoising(x, wavelet='bior3.1', level=1):\n",
        "        coeff = pywt.wavedec(x, wavelet, mode=\"per\")\n",
        "        sigma = (1 / 0.6745) * madev(coeff[-level])\n",
        "        uthresh = sigma * np.sqrt(2 * np.log(len(x)))\n",
        "        coeff[1:] = (pywt.threshold(i, value=uthresh, mode='hard') for i in coeff[1:])\n",
        "        return pywt.waverec(coeff, wavelet, mode='per')\n",
        "\n",
        "    # 20446\n",
        "    src_dir = \"<<<Source Path>>>\"\n",
        "    dest_dir = \"<<<Destination Path>>>\"\n",
        "\n",
        "    for file in glob.iglob(src_dir + '**/*.npy', recursive=True):\n",
        "        existing_file_name = Path(file).stem\n",
        "        new_file_name = existing_file_name[:5]\n",
        "\n",
        "        signal = np.load(file)\n",
        "\n",
        "        # wavelist=['bior1.3','bior2.8','bior3.1','bior3.9','db2','db8','rbio1.5','sym6','sym8']\n",
        "        wavelist = ['bior3.1']\n",
        "\n",
        "\n",
        "        for wav in wavelist:\n",
        "            filtered = wavelet_denoising(signal, wavelet=wav, level=1)\n",
        "            np.save(dest_dir+new_file_name+'.npy', filtered) # save\n",
        "\n",
        "Numpy_Denoise()"
      ],
      "metadata": {
        "id": "bapCIOR_e3uE"
      },
      "execution_count": null,
      "outputs": []
    },
    {
      "cell_type": "markdown",
      "source": [
        "Frequency Filtration to reduce data size"
      ],
      "metadata": {
        "id": "NBoajuT8huEP"
      }
    },
    {
      "cell_type": "code",
      "source": [
        "def Freq_Filtration():\n",
        "    #### https://scipy-lectures.org/intro/scipy/auto_examples/plot_fftpack.html\n",
        "\n",
        "    src_dir = \"<<<Source Path>>>\"\n",
        "    dest_dir = \"<<<Destination Path>>>\"\n",
        "\n",
        "    for file in glob.iglob(src_dir + '**/*.npy', recursive=True):\n",
        "\n",
        "        #Extracting File Name\n",
        "        existing_file_name = Path(file).stem\n",
        "        new_file_name = existing_file_name[:7]\n",
        "\n",
        "        #Load the file\n",
        "        x = np.load(file)  # 17876_lr\n",
        "\n",
        "        # The FFT of the signal\n",
        "        sig_fft = fftpack.fft(x)\n",
        "\n",
        "        # The corresponding frequencies\n",
        "        sample_freq = fftpack.fftfreq(x.size, d=0.02)\n",
        "\n",
        "        #The original signal copy\n",
        "        high_freq_fft = sig_fft.copy()\n",
        "        high_freq_fft = np.delete(high_freq_fft, np.where(np.abs(sample_freq > 2)))\n",
        "\n",
        "        #Taking Inverse of FFT\n",
        "        filtered_sig = fftpack.ifft(high_freq_fft)\n",
        "        print(len(filtered_sig))\n",
        "\n",
        "        #Saving resultant filtered signal into npy\n",
        "        np.save(dest_dir+new_file_name+\".npy\", filtered_sig)\n",
        "    \n",
        "Freq_Filteration()"
      ],
      "metadata": {
        "id": "cOE4sr6pXRI4"
      },
      "execution_count": null,
      "outputs": []
    },
    {
      "cell_type": "markdown",
      "source": [
        "Spectrograms Using STFT (Scipy Library)"
      ],
      "metadata": {
        "id": "KIDoHSG5hzGP"
      }
    },
    {
      "cell_type": "code",
      "source": [
        "def Draw_Spectrogram():\n",
        "    \n",
        "    src_dir = \"<<<Source Path>>>\"\n",
        "    dest_dir = \"<<<Destination Path>>>\"\n",
        "\n",
        "\n",
        "    for file in glob.iglob(src_dir + '**/*.npy', recursive=True):\n",
        "        # Extracting File Name\n",
        "        existing_file_name = Path(file).stem\n",
        "        new_file_name = existing_file_name[:7]   \n",
        "\n",
        "        #Loading file\n",
        "        x = np.load(file)   \n",
        "        print(len(x))\n",
        "\n",
        "        #applying STFT transformation\n",
        "        f, t, Zxx = signal.stft(x, nfft=9, nperseg=9, noverlap=5, fs=100, window='hann') #NFFT calculate by N base Log 2 with x=len(x) ##fs=100\n",
        "        plt.figure(figsize=(1.15, 1.19))   \n",
        "\n",
        "        #plotting spectrogram\n",
        "        plt.pcolormesh(t, f, np.abs(Zxx), cmap=\"gray_r\")\n",
        "        plt.axis(\"off\")\n",
        "        plt.savefig(dest_dir+ new_file_name + '.png',bbox_inches='tight',pad_inches=0)\n",
        "        plt.close('all')\n",
        "\n",
        "Draw_Spectrogram()"
      ],
      "metadata": {
        "id": "roQ_Uvm2Xcva"
      },
      "execution_count": null,
      "outputs": []
    },
    {
      "cell_type": "markdown",
      "source": [
        "Raw Signal Graph"
      ],
      "metadata": {
        "id": "9THOfaY3h6BL"
      }
    },
    {
      "cell_type": "code",
      "source": [
        "def DrawGraphs():\n",
        "\n",
        "    src_dir = \"<<<Source Path>>>\"  \n",
        "    dest_dir = \"<<<Destination Path>>>\"\n",
        "\n",
        "    for file in glob.iglob(src_dir + '**/*.npy', recursive=True):\n",
        "        # Extracting File Name\n",
        "        existing_file_name = Path(file).stem\n",
        "        new_file_name = existing_file_name[:7]  \n",
        "\n",
        "        # Loading file\n",
        "        x = np.load(file)   \n",
        "        print(len(x))\n",
        "\n",
        "        plt.figure(figsize=(0.64, 0.64))   \n",
        "        plt.plot(x, 'gray')\n",
        "        plt.axis(\"off\")\n",
        "\n",
        "        # saving plots\n",
        "        plt.savefig(dest_dir + new_file_name + '.jpeg')\n",
        "        plt.close('all')\n",
        "\n",
        "        \n",
        "DrawGraphs()"
      ],
      "metadata": {
        "id": "DYwIbFowXjKp"
      },
      "execution_count": null,
      "outputs": []
    },
    {
      "cell_type": "markdown",
      "source": [
        "Two Data Augmentation Approaches on Spectrogram / Raw Signal Images"
      ],
      "metadata": {
        "id": "H2TH7Vhwh-cT"
      }
    },
    {
      "cell_type": "code",
      "source": [
        "def HorizontalFlip():\n",
        "    src_dir = \"<<<Source Path>>>\"\n",
        "    dest_dir = \"<<<Destination Path>>>\"\n",
        "\n",
        "    for file in glob.iglob(src_dir + '**/*.png', recursive=True):\n",
        "        # Extracting File Name\n",
        "        existing_file_name = Path(file).stem\n",
        "        new_file_name = existing_file_name[:5]\n",
        "        print(file)\n",
        "        #opening Image and convert into 2-D\n",
        "        img = Image.open(file)\n",
        "        img = np.array(img)\n",
        "\n",
        "        # Flipping images with Numpy\n",
        "        flipped_img = np.fliplr(img)\n",
        "\n",
        "        img=Image.fromarray(flipped_img)\n",
        "        img.save(dest_dir+new_file_name+\"_hFlip\"+\".png\")\n",
        "        plt.close('all')\n",
        "\n",
        "def SetContrast():\n",
        "    src_dir = \"<<<Source Path>>>\"\n",
        "    dest_dir = \"<<<Destination Path>>>\"\n",
        "\n",
        "    for file in glob.iglob(src_dir + '**/*.png', recursive=True):\n",
        "        # Extracting File Name\n",
        "        existing_file_name = Path(file).stem\n",
        "        new_file_name = existing_file_name[:5]\n",
        "\n",
        "        # read the image\n",
        "        im = Image.open(file)\n",
        "\n",
        "        # image brightness enhancer\n",
        "        enhancer = ImageEnhance.Contrast(im)\n",
        "\n",
        "        factor = 1.7  # increase contrast\n",
        "        im_output = enhancer.enhance(factor)\n",
        "        im_output.save(dest_dir + new_file_name + \"_Contrast\" + \".png\")\n",
        "\n",
        "\n",
        "HorizontalFlip()\n",
        "SetContrast()"
      ],
      "metadata": {
        "id": "u7rzXFsFer-Q"
      },
      "execution_count": null,
      "outputs": []
    }
  ]
}